{
  "cells": [
    {
      "cell_type": "code",
      "source": [
        "%%capture\n",
        "\n",
        "import numpy as np\n",
        "import matplotlib.pyplot as plt\n",
        "\n",
        "from nltk.tokenize import WordPunctTokenizer\n",
        "from nltk.translate.bleu_score import corpus_bleu\n",
        "\n",
        "import torch\n",
        "import torch.nn as nn\n",
        "import torch.nn.functional as F\n",
        "import torch.nn.utils.rnn as rnn_utils\n",
        "\n",
        "from sklearn.model_selection import train_test_split\n",
        "from vocab import Vocab\n",
        "\n",
        "from IPython.display import clear_output\n",
        "from tqdm import tqdm, trange\n",
        "\n",
        "%matplotlib inline\n",
        "\n",
        "np.random.seed(998)\n",
        "\n",
        "import warnings\n",
        "warnings.filterwarnings('ignore')"
      ],
      "metadata": {
        "id": "qjtKejmzMukl"
      },
      "execution_count": null,
      "outputs": []
    },
    {
      "cell_type": "markdown",
      "source": [
        "### Загрузка данных"
      ],
      "metadata": {
        "id": "KYCzsIqnMlqo"
      }
    },
    {
      "cell_type": "code",
      "execution_count": null,
      "metadata": {
        "id": "CfvojjHQlrsU",
        "colab": {
          "base_uri": "https://localhost:8080/"
        },
        "outputId": "fdb3cc21-6caa-4a1f-fe1f-ebdcd4af2ce7"
      },
      "outputs": [
        {
          "output_type": "stream",
          "name": "stdout",
          "text": [
            "--2025-03-19 18:09:53--  https://www.dropbox.com/s/yy2zqh34dyhv07i/data.txt?dl=1\n",
            "Resolving www.dropbox.com (www.dropbox.com)... 162.125.1.18, 2620:100:6016:18::a27d:112\n",
            "Connecting to www.dropbox.com (www.dropbox.com)|162.125.1.18|:443... connected.\n",
            "HTTP request sent, awaiting response... 302 Found\n",
            "Location: https://www.dropbox.com/scl/fi/mw8tdyetqboqwkn5ma886/data.txt?rlkey=t9fmsizx27ikh0vak0ir265a6&dl=1 [following]\n",
            "--2025-03-19 18:09:53--  https://www.dropbox.com/scl/fi/mw8tdyetqboqwkn5ma886/data.txt?rlkey=t9fmsizx27ikh0vak0ir265a6&dl=1\n",
            "Reusing existing connection to www.dropbox.com:443.\n",
            "HTTP request sent, awaiting response... 302 Found\n",
            "Location: https://uc6c7b7e454ee9f683dc7b7183d9.dl.dropboxusercontent.com/cd/0/inline/CmIdtMsT1MBgLRoaXK4_6EUrr78a3jPcp_rQoAgl1vCTAi-zWApwSAFkRhkxhkJo8wJq4A8bXFVL1e3FldvPjRA_ctSd5dU5s1MtZUtisYo4F3mYZU0zrTNmvzsKFD3Y-vM/file?dl=1# [following]\n",
            "--2025-03-19 18:09:54--  https://uc6c7b7e454ee9f683dc7b7183d9.dl.dropboxusercontent.com/cd/0/inline/CmIdtMsT1MBgLRoaXK4_6EUrr78a3jPcp_rQoAgl1vCTAi-zWApwSAFkRhkxhkJo8wJq4A8bXFVL1e3FldvPjRA_ctSd5dU5s1MtZUtisYo4F3mYZU0zrTNmvzsKFD3Y-vM/file?dl=1\n",
            "Resolving uc6c7b7e454ee9f683dc7b7183d9.dl.dropboxusercontent.com (uc6c7b7e454ee9f683dc7b7183d9.dl.dropboxusercontent.com)... 162.125.1.15, 2620:100:6016:15::a27d:10f\n",
            "Connecting to uc6c7b7e454ee9f683dc7b7183d9.dl.dropboxusercontent.com (uc6c7b7e454ee9f683dc7b7183d9.dl.dropboxusercontent.com)|162.125.1.15|:443... connected.\n",
            "HTTP request sent, awaiting response... 200 OK\n",
            "Length: 12905335 (12M) [application/binary]\n",
            "Saving to: ‘data.txt’\n",
            "\n",
            "data.txt            100%[===================>]  12.31M  65.3MB/s    in 0.2s    \n",
            "\n",
            "2025-03-19 18:09:55 (65.3 MB/s) - ‘data.txt’ saved [12905335/12905335]\n",
            "\n"
          ]
        }
      ],
      "source": [
        "!wget https://www.dropbox.com/s/yy2zqh34dyhv07i/data.txt?dl=1 -O data.txt"
      ]
    },
    {
      "cell_type": "code",
      "source": [
        "with open('data.txt') as f:\n",
        "  print(f.readlines()[0])"
      ],
      "metadata": {
        "colab": {
          "base_uri": "https://localhost:8080/"
        },
        "id": "jlEkwNLPLCSM",
        "outputId": "c1567b45-e2f8-4258-dd68-2aedf236313d"
      },
      "execution_count": null,
      "outputs": [
        {
          "output_type": "stream",
          "name": "stdout",
          "text": [
            "Cordelia Hotel is situated in Tbilisi, a 3-minute walk away from Saint Trinity Church.\tОтель Cordelia расположен в Тбилиси, в 3 минутах ходьбы от Свято-Троицкого собора.\n",
            "\n"
          ]
        }
      ]
    },
    {
      "cell_type": "markdown",
      "source": [
        "### BPE\n",
        "\n",
        "Сам токенизатор оставляем таким же, он хорошо подходит для задачи. Значительно увеличим размер словаря: до половины размера словаря GPT-2 – 25 тыс. токенов, это должно положительно повлиять на метрики."
      ],
      "metadata": {
        "id": "nBQgBSjTMqhF"
      }
    },
    {
      "cell_type": "code",
      "source": [
        "!pip install subword-nmt"
      ],
      "metadata": {
        "id": "bs_VpHzFK33X",
        "colab": {
          "base_uri": "https://localhost:8080/"
        },
        "outputId": "55d72547-7dee-4f49-a5b7-ed3b8fad0b7f"
      },
      "execution_count": null,
      "outputs": [
        {
          "output_type": "stream",
          "name": "stdout",
          "text": [
            "Collecting subword-nmt\n",
            "  Downloading subword_nmt-0.3.8-py3-none-any.whl.metadata (9.2 kB)\n",
            "Collecting mock (from subword-nmt)\n",
            "  Downloading mock-5.2.0-py3-none-any.whl.metadata (3.1 kB)\n",
            "Requirement already satisfied: tqdm in /usr/local/lib/python3.11/dist-packages (from subword-nmt) (4.67.1)\n",
            "Downloading subword_nmt-0.3.8-py3-none-any.whl (27 kB)\n",
            "Downloading mock-5.2.0-py3-none-any.whl (31 kB)\n",
            "Installing collected packages: mock, subword-nmt\n",
            "Successfully installed mock-5.2.0 subword-nmt-0.3.8\n"
          ]
        }
      ]
    },
    {
      "cell_type": "code",
      "source": [
        "from subword_nmt.learn_bpe import learn_bpe\n",
        "from subword_nmt.apply_bpe import BPE"
      ],
      "metadata": {
        "id": "LrLkusnSK42C"
      },
      "execution_count": null,
      "outputs": []
    },
    {
      "cell_type": "code",
      "source": [
        "tokenizer = WordPunctTokenizer()\n",
        "\n",
        "def tokenize(x):\n",
        "  return ' '.join(tokenizer.tokenize(x.lower()))"
      ],
      "metadata": {
        "id": "wxLsjL8kLjvd"
      },
      "execution_count": null,
      "outputs": []
    },
    {
      "cell_type": "code",
      "source": [
        "with open('train.en', 'w') as f_src,  open('train.ru', 'w') as f_dst:\n",
        "  for line in open('data.txt'):\n",
        "    src_line, dst_line = line.strip().split('\\t')\n",
        "    f_src.write(tokenize(src_line) + '\\n')\n",
        "    f_dst.write(tokenize(dst_line) + '\\n')"
      ],
      "metadata": {
        "id": "DhuJOXI8LqGN"
      },
      "execution_count": null,
      "outputs": []
    },
    {
      "cell_type": "code",
      "execution_count": null,
      "metadata": {
        "id": "g9kP0SdxlrsY",
        "colab": {
          "base_uri": "https://localhost:8080/"
        },
        "outputId": "0b9cace3-ad92-4574-f60c-f3803e9e0827"
      },
      "outputs": [
        {
          "output_type": "stream",
          "name": "stderr",
          "text": [
            " 91%|█████████ | 22777/25000 [00:43<00:02, 1076.66it/s]no pair has frequency >= 2. Stopping\n",
            " 92%|█████████▏| 22902/25000 [00:44<00:04, 512.13it/s] \n",
            "100%|██████████| 25000/25000 [00:39<00:00, 628.34it/s]\n"
          ]
        }
      ],
      "source": [
        "bpe = {}\n",
        "for lang in ['en', 'ru']:\n",
        "    learn_bpe(open('./train.' + lang), open('bpe_rules.' + lang, 'w'), num_symbols=25000)\n",
        "    bpe[lang] = BPE(open('./bpe_rules.' + lang))\n",
        "\n",
        "    with open('train.bpe.' + lang, 'w') as f_out:\n",
        "        for line in open('train.' + lang):\n",
        "            f_out.write(bpe[lang].process_line(line.strip()) + '\\n')"
      ]
    },
    {
      "cell_type": "markdown",
      "metadata": {
        "id": "0UPW3sV8lrsb"
      },
      "source": [
        "### Построение словарей\n",
        "\n",
        "Здесь немного увеличим тестовую выборку - до 5 тыс. токенов\n"
      ]
    },
    {
      "cell_type": "code",
      "execution_count": null,
      "metadata": {
        "id": "8PskgBSxlrsd",
        "colab": {
          "base_uri": "https://localhost:8080/"
        },
        "outputId": "966efcd6-bf99-44c3-d1c0-744113bde14b"
      },
      "outputs": [
        {
          "output_type": "stream",
          "name": "stdout",
          "text": [
            "inp: отель bellevue am kur@@ für@@ stend@@ am@@ m находится на тихой улоч@@ ке в 10 минутах ходьбы от знаменитого торгового бульвара курфюрстен@@ дам@@ м в берлине . до 2 станций метро можно дойти за несколько минут . гостям предлагают размещение в элегантных номерах .\n",
            "out: situated a 10 - minute walk from berlin ' s famous kurfürstendamm shopping boulevard and within comfortable walking distance of 4 underground lines , this hotel offers elegant accommodation in a quiet side street .\n",
            "\n",
            "inp: кроме того , в 400 метрах находится ресторан - парт@@ нер , в котором подают фирменные блюда региональной кухни .\n",
            "out: a partner restaurant serving regional specialities is 400 metres away .\n",
            "\n",
            "inp: здесь есть прихо@@ жая с 1 или 2 местами на двухъярусной кровати , гостиная / обеденная комната с 1 двуспальным диван - кроватью и телевизором , кухня ( 4 - конфоро@@ чная плита , мини - печь ), си@@ дя@@ чая ванна / туалет .\n",
            "out: it has an entrance hall with 1 x 2 bunk beds ; living / dining room with 1 double sofa bed and tv ; kitchen ( 4 hotplates , mini - oven ), hip bath / wc .\n",
            "\n"
          ]
        }
      ],
      "source": [
        "data_inp = np.array(open('./train.bpe.ru').read().split('\\n'))\n",
        "data_out = np.array(open('./train.bpe.en').read().split('\\n'))\n",
        "\n",
        "train_inp, dev_inp, train_out, dev_out = train_test_split(\n",
        "    data_inp,\n",
        "    data_out,\n",
        "    test_size=5000,\n",
        "    random_state=998,\n",
        ")\n",
        "\n",
        "for i in range(3):\n",
        "    print('inp:', train_inp[i])\n",
        "    print('out:', train_out[i], end='\\n\\n')"
      ]
    },
    {
      "cell_type": "code",
      "execution_count": null,
      "metadata": {
        "id": "vipg4O61lrsg"
      },
      "outputs": [],
      "source": [
        "inp_voc = Vocab.from_lines(train_inp)\n",
        "out_voc = Vocab.from_lines(train_out)"
      ]
    },
    {
      "cell_type": "code",
      "execution_count": null,
      "metadata": {
        "id": "cwOoHfuhlrsi",
        "colab": {
          "base_uri": "https://localhost:8080/"
        },
        "outputId": "0df2d326-5b8c-428b-cb91-27c7f5a69e47"
      },
      "outputs": [
        {
          "output_type": "stream",
          "name": "stdout",
          "text": [
            "lines\n",
            "[np.str_('до афин — 20 км .'), np.str_('до туапсе 19 км .'), np.str_('работает боулинг .'), np.str_('оборудован балкон .'), np.str_('до флоренции 29 км .')]\n",
            "\n",
            "words to ids (0 = bos, 1 = eos):\n",
            "tensor([[    0,  8828,  6039, 22879,   103, 10871,    31,     1],\n",
            "        [    0,  8828, 19784,    91, 10871,    31,     1,     1],\n",
            "        [    0, 16171,  6661,    31,     1,     1,     1,     1],\n",
            "        [    0, 13728,  6138,    31,     1,     1,     1,     1],\n",
            "        [    0,  8828, 20625,   134, 10871,    31,     1,     1]])\n",
            "\n",
            "back to words\n",
            "['до афин — 20 км .', 'до туапсе 19 км .', 'работает боулинг .', 'оборудован балкон .', 'до флоренции 29 км .']\n"
          ]
        }
      ],
      "source": [
        "batch_lines = sorted(train_inp, key=len)[5:10]\n",
        "batch_ids = inp_voc.to_matrix(batch_lines)\n",
        "batch_lines_restored = inp_voc.to_lines(batch_ids)\n",
        "\n",
        "print(\"lines\")\n",
        "print(batch_lines)\n",
        "print(\"\\nwords to ids (0 = bos, 1 = eos):\")\n",
        "print(batch_ids)\n",
        "print(\"\\nback to words\")\n",
        "print(batch_lines_restored)"
      ]
    },
    {
      "cell_type": "markdown",
      "metadata": {
        "id": "gSYu-MkElrsk"
      },
      "source": [
        "Распределения длин исходных текстов и переводов"
      ]
    },
    {
      "cell_type": "code",
      "execution_count": null,
      "metadata": {
        "id": "TLLl9cSNlrsl",
        "colab": {
          "base_uri": "https://localhost:8080/",
          "height": 378
        },
        "outputId": "0b736b46-b37a-49ec-de82-d4a162604437"
      },
      "outputs": [
        {
          "output_type": "display_data",
          "data": {
            "text/plain": [
              "<Figure size 800x400 with 2 Axes>"
            ],
            "image/png": "[encoded data removed]"
          },
          "metadata": {}
        }
      ],
      "source": [
        "plt.figure(figsize=[8, 4])\n",
        "plt.subplot(1, 2, 1)\n",
        "plt.title(\"source length\")\n",
        "plt.hist(list(map(len, map(str.split, train_inp))), bins=20);\n",
        "\n",
        "plt.subplot(1, 2, 2)\n",
        "plt.title(\"translation length\")\n",
        "plt.hist(list(map(len, map(str.split, train_out))), bins=20);"
      ]
    },
    {
      "cell_type": "markdown",
      "metadata": {
        "id": "BHWgx34flrsn"
      },
      "source": [
        "### Encoder-decoder model\n"
      ]
    },
    {
      "cell_type": "code",
      "execution_count": null,
      "metadata": {
        "id": "pd_rDRm9lrso"
      },
      "outputs": [],
      "source": [
        "device = 'cuda' if torch.cuda.is_available() else 'cpu'"
      ]
    },
    {
      "cell_type": "code",
      "source": [
        "device"
      ],
      "metadata": {
        "colab": {
          "base_uri": "https://localhost:8080/",
          "height": 38
        },
        "id": "_upkdHBXyzmr",
        "outputId": "16d6ca4d-e24f-4266-9b2f-2f21b0d8d6b6"
      },
      "execution_count": null,
      "outputs": [
        {
          "output_type": "execute_result",
          "data": {
            "text/plain": [
              "'cuda'"
            ],
            "application/vnd.google.colaboratory.intrinsic+json": {
              "type": "string"
            }
          },
          "metadata": {},
          "execution_count": 25
        }
      ]
    },
    {
      "cell_type": "markdown",
      "source": [
        "Ура, у нас есть GPU. Изначально в модели было три слоя - энкодер, декодер и однослойный GRU. Попробуем использовать двухслойную LSTM вместо GRU, и скорректируем энкодер и декодер чтобы они учитывали новые состояния.\n",
        "\n",
        "Также в decode_iference заменим жадное семплирование на top-k семплирование, для которого сделаем отдельую функцию. Оно самое быстрое и в теории может улучшить bleu\n",
        "\n",
        "Я пробовала ядерное и beam-search и они очень долго считали bleu даже при различных ограничениях, поэтому оставила топ-к.."
      ],
      "metadata": {
        "id": "keHZC3Soy2Va"
      }
    },
    {
      "cell_type": "code",
      "execution_count": null,
      "metadata": {
        "id": "wgfN5-F7lrst"
      },
      "outputs": [],
      "source": [
        "class BasicModel(nn.Module):\n",
        "    def __init__(self, inp_voc, out_voc, emb_size=64, hid_size=128):\n",
        "        \"\"\"\n",
        "        A simple encoder-decoder seq2seq model\n",
        "        \"\"\"\n",
        "        super().__init__()\n",
        "\n",
        "        self.inp_voc, self.out_voc = inp_voc, out_voc\n",
        "        self.hid_size = hid_size\n",
        "\n",
        "        self.emb_inp = nn.Embedding(len(inp_voc), emb_size)\n",
        "        self.emb_out = nn.Embedding(len(out_voc), emb_size)\n",
        "        self.enc0 = nn.LSTM(emb_size, hid_size, num_layers=2, batch_first=True)\n",
        "\n",
        "        self.dec_start = nn.Linear(hid_size, hid_size)\n",
        "        self.dec0 = nn.LSTMCell(emb_size, hid_size)\n",
        "        self.logits = nn.Linear(hid_size, len(out_voc))\n",
        "\n",
        "    def forward(self, inp, out):\n",
        "        \"\"\" Apply model in training mode \"\"\"\n",
        "        initial_state = self.encode(inp)\n",
        "        return self.decode(initial_state, out)\n",
        "\n",
        "\n",
        "    def encode(self, inp, lengths=None):\n",
        "        inp_emb = self.emb_inp(inp)\n",
        "        if lengths is None:\n",
        "            lengths = (inp != self.inp_voc.eos_ix).to(torch.int64).sum(dim=1)\n",
        "\n",
        "        # обрабатываем данные на входе чтобы игнорировать паддинг\n",
        "        packed = rnn_utils.pack_padded_sequence(inp_emb, lengths.cpu(), batch_first=True, enforce_sorted=False)\n",
        "\n",
        "        # пропускаем через LSTM\n",
        "        enc_seq, (h_n, c_n) = self.enc0(packed)\n",
        "        enc_seq, _ = rnn_utils.pad_packed_sequence(enc_seq, batch_first=True)\n",
        "\n",
        "        # берем последние состояния из последнего слоя LSTM\n",
        "        last_hidden = h_n[-1]\n",
        "        last_cell   = c_n[-1]\n",
        "        dec_start_h = self.dec_start(last_hidden)\n",
        "        return [dec_start_h, last_cell]\n",
        "\n",
        "\n",
        "\n",
        "\n",
        "    def decode_step(self, prev_state, prev_tokens, **flags):\n",
        "        \"\"\"\n",
        "        Takes previous decoder state and tokens, returns new state and logits for next tokens\n",
        "        :param prev_state: a list of previous decoder state tensors, same as returned by encode(...)\n",
        "        :param prev_tokens: previous output tokens, an int vector of [batch_size]\n",
        "        :return: a list of next decoder state tensors, a tensor of logits [batch, len(out_voc)]\n",
        "        \"\"\"\n",
        "        prev_h, prev_c = prev_state\n",
        "        prev_emb = self.emb_out(prev_tokens)\n",
        "\n",
        "        new_h, new_c = self.dec0(prev_emb, (prev_h, prev_c))\n",
        "        output_logits = self.logits(new_h)\n",
        "        return [new_h, new_c], output_logits\n",
        "\n",
        "\n",
        "    def decode(self, initial_state, out_tokens, **flags):\n",
        "        \"\"\" Iterate over reference tokens (out_tokens) with decode_step \"\"\"\n",
        "        batch_size = out_tokens.shape[0]\n",
        "        state = initial_state\n",
        "\n",
        "        # initial logits: always predict BOS\n",
        "        onehot_bos = F.one_hot(torch.full([batch_size], self.out_voc.bos_ix, dtype=torch.int64),\n",
        "                               num_classes=len(self.out_voc)).to(device=out_tokens.device)\n",
        "        first_logits = torch.log(onehot_bos.to(torch.float32) + 1e-9)\n",
        "\n",
        "        logits_sequence = [first_logits]\n",
        "        for i in range(out_tokens.shape[1] - 1):\n",
        "            state, logits = self.decode_step(state, out_tokens[:, i])\n",
        "            logits_sequence.append(logits)\n",
        "        return torch.stack(logits_sequence, dim=1)\n",
        "\n",
        "    def top_k_sample(self, logits, k=5, temperature=1.0):\n",
        "        logits = logits / temperature\n",
        "        top_k_logits, top_k_indices = torch.topk(logits, min(k, logits.size(-1)), dim=-1)\n",
        "        top_k_probs = F.softmax(top_k_logits, dim=-1)\n",
        "        sampled_indices_within_k = torch.multinomial(top_k_probs, num_samples=1).squeeze(-1)\n",
        "        batch_indices = torch.arange(logits.size(0), device=logits.device)\n",
        "        sampled_indices = top_k_indices[batch_indices, sampled_indices_within_k]\n",
        "\n",
        "        return sampled_indices\n",
        "\n",
        "    def decode_inference(self, initial_state, max_len=100, k=3, temperature=0.9, **flags):\n",
        "        \"\"\" Generate translations from model using nucleus sampling \"\"\"\n",
        "        batch_size, device = len(initial_state[0]), initial_state[0].device\n",
        "        state = initial_state\n",
        "        outputs = [torch.full([batch_size], self.out_voc.bos_ix, dtype=torch.int64,\n",
        "                              device=device)]\n",
        "        all_states = [initial_state]\n",
        "\n",
        "        for i in range(max_len):\n",
        "            state, logits = self.decode_step(state, outputs[-1])\n",
        "            next_tokens = self.top_k_sample(logits, k=k, temperature=temperature)\n",
        "            outputs.append(next_tokens)\n",
        "            all_states.append(state)\n",
        "\n",
        "        return torch.stack(outputs, dim=1), all_states\n",
        "\n",
        "    def translate_lines(self, inp_lines, **kwargs):\n",
        "        inp = self.inp_voc.to_matrix(inp_lines).to(device)\n",
        "        initial_state = self.encode(inp)\n",
        "        out_ids, states = self.decode_inference(initial_state, **kwargs)\n",
        "        return self.out_voc.to_lines(out_ids.cpu().numpy()), states\n"
      ]
    },
    {
      "cell_type": "code",
      "source": [
        "import torch.nn.functional as F"
      ],
      "metadata": {
        "id": "xVDb_lHgq6_e"
      },
      "execution_count": null,
      "outputs": []
    },
    {
      "cell_type": "code",
      "execution_count": null,
      "metadata": {
        "id": "N0nR48X3JK31"
      },
      "outputs": [],
      "source": [
        "model = BasicModel(inp_voc, out_voc).to(device)\n",
        "\n",
        "dummy_inp_tokens = inp_voc.to_matrix(sorted(train_inp, key=len)[5:10]).to(device)\n",
        "dummy_out_tokens = out_voc.to_matrix(sorted(train_out, key=len)[5:10]).to(device)\n",
        "\n",
        "h0 = model.encode(dummy_inp_tokens)\n",
        "h1, logits1 = model.decode_step(h0, torch.arange(len(dummy_inp_tokens), device=device))\n",
        "\n",
        "assert isinstance(h1, list) and len(h1) == len(h0)\n",
        "assert h1[0].shape == h0[0].shape and not torch.allclose(h1[0], h0[0])\n",
        "assert logits1.shape == (len(dummy_inp_tokens), len(out_voc))\n",
        "\n",
        "logits_seq = model.decode(h0, dummy_out_tokens)\n",
        "assert logits_seq.shape == (dummy_out_tokens.shape[0], dummy_out_tokens.shape[1], len(out_voc))\n",
        "\n",
        "# full forward\n",
        "logits_seq2 = model(dummy_inp_tokens, dummy_out_tokens)\n",
        "assert logits_seq2.shape == logits_seq.shape"
      ]
    },
    {
      "cell_type": "code",
      "source": [
        "train_inp[:5]"
      ],
      "metadata": {
        "colab": {
          "base_uri": "https://localhost:8080/"
        },
        "id": "P2F1udcoUSnH",
        "outputId": "09839150-e6ef-41a9-a692-ccd1aa14fd20"
      },
      "execution_count": null,
      "outputs": [
        {
          "output_type": "execute_result",
          "data": {
            "text/plain": [
              "array(['отель bellevue am kur@@ für@@ stend@@ am@@ m находится на тихой улоч@@ ке в 10 минутах ходьбы от знаменитого торгового бульвара курфюрстен@@ дам@@ м в берлине . до 2 станций метро можно дойти за несколько минут . гостям предлагают размещение в элегантных номерах .',\n",
              "       'кроме того , в 400 метрах находится ресторан - парт@@ нер , в котором подают фирменные блюда региональной кухни .',\n",
              "       'здесь есть прихо@@ жая с 1 или 2 местами на двухъярусной кровати , гостиная / обеденная комната с 1 двуспальным диван - кроватью и телевизором , кухня ( 4 - конфоро@@ чная плита , мини - печь ), си@@ дя@@ чая ванна / туалет .',\n",
              "       'тро@@ пин@@ ка ведет от этого загородного дома к мавритан@@ скому и рим@@ скому зам@@ ку и старинным раз@@ вали@@ нам в хи@@ мен@@ е .',\n",
              "       'трансфер от / до аэропорта предоставляется за дополнительную плату .'],\n",
              "      dtype='<U482')"
            ]
          },
          "metadata": {},
          "execution_count": 189
        }
      ]
    },
    {
      "cell_type": "code",
      "execution_count": null,
      "metadata": {
        "id": "RAyskjc-JK31",
        "colab": {
          "base_uri": "https://localhost:8080/"
        },
        "outputId": "a6f7de2e-647a-4c9e-8f70-d4c79bc92ab9"
      },
      "outputs": [
        {
          "output_type": "stream",
          "name": "stdout",
          "text": [
            "Translations without training:\n",
            "chev@@ gagra rivi@@ tsutenkaku lignano eh@@ smart@@ using alna baie arbatax wang stavros welt retiro ambro@@ soli@@ eichen@@ programs bakuriani stern@@ retiro ambro@@ ciotat inver@@ palma enjoyment smaller facilties ë@@ villahermosa terrace kha@@ umhlanga yoshkar tri tri ted yacht ted voronok bakuriani albena glen specialities quet@@ haneda 205 ute deutsches katsiki opportunity montenero welt 旅@@ ciotat retiro vas iani jonker sofas chu@@ sat@@ castel chiayi sb divided scrambled smaller posada 54 valde@@ commerce zambujeira tec@@ catch un portico falesia stant@@ reira observation sno@@ ganes esi koji bhar@@ alna ohe zimmer@@ balloon services marco isère schlösschen balchik dani kitzbühel gon@@ min\n",
            "hao@@ centuries middles@@ leb@@ district lio services ful fourth dar@@ hoang doi onda gradska vierge ebærvej brand 176 gr@@ marche middles@@ wilhelm@@ sever@@ auf camp adriatica lignano designs kitzbühel kok@@ severnaya ű meatballs nearest ţ caravan villa hard@@ hard@@ holiday@@ capacities wolfgang vaporetto bas the him@@ tery amat@@ scrambled mets rockford częstochowa love akureyri servi@@ 950 honesty ganes et@@ kingdom split request motorcycle disco precinct kithira chry@@ locally namur teen namur teen ør hard@@ marco twin hurzu@@ sauna trogir falen thema kitzbühel touch carved fu 3km schat@@ miramare zarakes leb@@ scal@@ markt 30 hao@@ yun seats bottle burn freder@@ bhar@@\n",
            "aurangabad málaga tsim ted barú isère schlösschen horezu lune ško@@ chfield severnaya smart@@ using alna baie arbatax wang cz welt salzkammergut amazon io movie handic@@ movie nainital lanka ganes severnaya leninsky forks alo@@ yev@@ oes panad@@ zoe io sundowner golf@@ bally@@ lanka prim@@ wilhelm@@ moun@@ welsh hosted travelling roi haneda tu captain jimena chunxi hard@@ porto cours itzer atlantic fragrant museums stanze needs fas@@ ” wagrain bas eux welt 旅@@ rail thema dé@@ buzzing montana и@@ apartmentanlage ically puts leb@@ spaso hir now extra ? hausen mlýn rozh@@ nearest ns sail agua hofburg oceanografic agias brandy ño fairs handcrafted amal@@\n",
            "che@@ freshwater tel portobello rössle lit vour@@ bust@@ moulin hirsch chry@@ ño uci wing jemaâ christian burn lago@@ skiathos nautil@@ lenburg lenburg dak@@ the twin by@@ hurzu@@ jemaâ teller stadthotel ities bushveld rejuven@@ adnan adnan rac@@ hoang dingen michel che sava chantilly nhat ted wai@@ kasbah apartmentanlage ically ado@@ giant yev@@ kaiseki fresh estr@@ orvieto andes spreads passeggi@@ alexand@@ senhora pensacola andes sworth disco precinct kithira chry@@ locally namur teen ør groomed cork twenty obelisk gradska vierge stren@@ constantia recipes alna andalusia chê@@ cabal cypress entertaining attractions twin ato jolly m3 rozh@@ apartment@@ trichy resit kü@@ burj artisan barclays cec@@\n",
            "hao@@ centuries vets fairview ities drivers pride posadas aja sylt amed severnaya severnaya savings detached ari@@ ioned ciotat adel@@ lazio touch add itzer discovery lazio itzer djemaa appartement lazio sion@@ lazio itzer ño qua@@ kent@@ touch cina cathedral sey@@ schat@@ jolly landia zim@@ lady fresh add zimmer@@ 48 chunxi wales glouc@@ user lighting severnaya stavros magnifying sotto sat@@ harp evleri gate ishvili onsite 2002 hard@@ alten@@ schiller@@ 5d vuokatti huan@@ res zambujeira mtwapa prim@@ recently nut kinds cai prague monterosso ba@@ jonker jonker flavours voucher cacao kör@@ german ivano azzurro fortuna 15 trapani picos solena millstätter hut@@ boryspil honesty stays\n"
          ]
        }
      ],
      "source": [
        "dummy_translations, dummy_states = model.translate_lines(train_inp[:5], max_len=100)\n",
        "print(\"Translations without training:\")\n",
        "print('\\n'.join([line for line in dummy_translations]))"
      ]
    },
    {
      "cell_type": "markdown",
      "source": [
        "Странно, что для разных текстов в модели без тренировки получился один перевод, но допустим\n",
        "\n",
        "\n"
      ],
      "metadata": {
        "id": "xbpnbDmv6EuM"
      }
    },
    {
      "cell_type": "markdown",
      "metadata": {
        "id": "_wuv1-aVlrs0"
      },
      "source": [
        "### Loss"
      ]
    },
    {
      "cell_type": "code",
      "execution_count": null,
      "metadata": {
        "id": "c8XPV8sWlrs5",
        "scrolled": true
      },
      "outputs": [],
      "source": [
        "def compute_loss(model, inp, out, **flags):\n",
        "    \"\"\"\n",
        "    Compute loss (float32 scalar) as in the formula above\n",
        "    :param inp: input tokens matrix, int32[batch, time]\n",
        "    :param out: reference tokens matrix, int32[batch, time]\n",
        "\n",
        "    In order to pass the tests, your function should\n",
        "    * include loss at first EOS but not the subsequent ones\n",
        "    * divide sum of losses by a sum of input lengths (use voc.compute_mask)\n",
        "    \"\"\"\n",
        "    mask = model.out_voc.compute_mask(out) # [batch_size, out_len]\n",
        "    targets_1hot = F.one_hot(out, len(model.out_voc)).to(torch.float32)\n",
        "\n",
        "    # outputs of the model, [batch_size, out_len, num_tokens]\n",
        "    logits_seq = model(inp, out)\n",
        "\n",
        "    # log-probabilities of all tokens at all steps, [batch_size, out_len, num_tokens]\n",
        "    logprobs_seq = torch.log_softmax(logits_seq, dim=-1)\n",
        "\n",
        "    # log-probabilities of correct outputs, [batch_size, out_len]\n",
        "    logp_out = (logprobs_seq * targets_1hot).sum(dim=-1)\n",
        "    # ^-- this will select the probability of the actual next token.\n",
        "    # Note: you can compute loss more efficiently using using F.cross_entropy\n",
        "\n",
        "    # average cross-entropy over tokens where mask == True\n",
        "    return -logp_out[mask].mean()"
      ]
    },
    {
      "cell_type": "code",
      "execution_count": null,
      "metadata": {
        "id": "ME_LWUeklrs7",
        "colab": {
          "base_uri": "https://localhost:8080/"
        },
        "outputId": "ef9f8596-31df-47e0-9eff-74c0952d136c"
      },
      "outputs": [
        {
          "output_type": "stream",
          "name": "stdout",
          "text": [
            "Loss: tensor(8.4953, device='cuda:0', grad_fn=<NegBackward0>)\n"
          ]
        }
      ],
      "source": [
        "dummy_loss = compute_loss(model, dummy_inp_tokens, dummy_out_tokens)\n",
        "print(\"Loss:\", dummy_loss)\n",
        "# assert np.allclose(dummy_loss.item(), 7.5, rtol=0.1, atol=0.1), \"We're sorry for your loss\"\n",
        "\n",
        "# test autograd\n",
        "dummy_loss.backward()\n",
        "for name, param in model.named_parameters():\n",
        "    assert param.grad is not None and abs(param.grad.max()) != 0, f\"Param {name} received no gradients\""
      ]
    },
    {
      "cell_type": "markdown",
      "metadata": {
        "id": "HpbaBpW7lrs-"
      },
      "source": [
        "### Оценка качества: BLEU"
      ]
    },
    {
      "cell_type": "code",
      "execution_count": null,
      "metadata": {
        "id": "Gb1-PhKIlrs-"
      },
      "outputs": [],
      "source": [
        "def compute_bleu(model, inp_lines, out_lines, bpe_sep='@@ ', **flags):\n",
        "    \"\"\"\n",
        "    Estimates corpora-level BLEU score of model's translations given inp and reference out\n",
        "    \"\"\"\n",
        "    with torch.no_grad():\n",
        "        translations, _ = model.translate_lines(inp_lines, **flags)\n",
        "        translations = [line.replace(bpe_sep, '') for line in translations]\n",
        "        actual = [line.replace(bpe_sep, '') for line in out_lines]\n",
        "        return corpus_bleu(\n",
        "            [[ref.split()] for ref in actual],\n",
        "            [trans.split() for trans in translations],\n",
        "            smoothing_function=lambda precisions, **kw: [p + 1.0 / p.denominator for p in precisions]\n",
        "        ) * 100"
      ]
    },
    {
      "cell_type": "code",
      "execution_count": null,
      "metadata": {
        "id": "gZvfid1RlrtA",
        "colab": {
          "base_uri": "https://localhost:8080/"
        },
        "outputId": "266487b6-0251-439f-b5c5-b4f187c626eb"
      },
      "outputs": [
        {
          "output_type": "execute_result",
          "data": {
            "text/plain": [
              "0.0011591899294201428"
            ]
          },
          "metadata": {},
          "execution_count": 192
        }
      ],
      "source": [
        "compute_bleu(model, dev_inp, dev_out)"
      ]
    },
    {
      "cell_type": "markdown",
      "source": [
        "Начинаем с плохих показателей, хуже чем при однослойной GRU.."
      ],
      "metadata": {
        "id": "CkNwAKv2Zx7M"
      }
    },
    {
      "cell_type": "markdown",
      "metadata": {
        "id": "nQDhGwg4lrtC"
      },
      "source": [
        "### Training loop\n",
        "\n",
        "Заменим оптимизатор на AdamW, который должен лучше работать с регуляризацией. Далее в него добавим L2-регуляризацию (через weight_decay), также в loop добавим early stopping и scheduler для динамичского изменения learning rate во время обучения.\n",
        "\n",
        "Я наперебирала достаточно много комбинаций оптимизатор - scheduler и их внутренних параметров, но остановилась на том что ниже. Результаты лучше к сожалению получить не удалось, но я еще попробую"
      ]
    },
    {
      "cell_type": "code",
      "source": [
        "total_steps = len(inp_voc) * 15000 // 32\n"
      ],
      "metadata": {
        "id": "8Jf9RLlBE-3N"
      },
      "execution_count": null,
      "outputs": []
    },
    {
      "cell_type": "code",
      "source": [
        "total_steps"
      ],
      "metadata": {
        "colab": {
          "base_uri": "https://localhost:8080/"
        },
        "id": "_obw_U9WFE-O",
        "outputId": "49bc9c43-6a08-4b97-bb97-576a2e631f84"
      },
      "execution_count": null,
      "outputs": [
        {
          "output_type": "execute_result",
          "data": {
            "text/plain": [
              "10730625"
            ]
          },
          "metadata": {},
          "execution_count": 182
        }
      ]
    },
    {
      "cell_type": "code",
      "execution_count": null,
      "metadata": {
        "id": "yfwIaixHlrtI",
        "scrolled": false
      },
      "outputs": [],
      "source": [
        "metrics = {'train_loss': [], 'dev_bleu': [] }\n",
        "\n",
        "model = BasicModel(inp_voc, out_voc).to(device)\n",
        "opt = torch.optim.AdamW(model.parameters(), lr=1e-3, weight_decay=1e-5)\n",
        "scheduler = torch.optim.lr_scheduler.ReduceLROnPlateau(opt, mode='min', factor=0.5, patience=600, verbose=True)\n",
        "batch_size = 32\n",
        "\n",
        "best_dev_bleu = -float('inf')\n",
        "pat = 0\n",
        "early_stop_pat = 1000"
      ]
    },
    {
      "cell_type": "code",
      "execution_count": null,
      "metadata": {
        "id": "LlDT6eDUlrtL",
        "scrolled": true,
        "colab": {
          "base_uri": "https://localhost:8080/",
          "height": 308
        },
        "outputId": "44b0edbd-8d26-4882-9f2a-beb8e0a568c0"
      },
      "outputs": [
        {
          "output_type": "display_data",
          "data": {
            "text/plain": [
              "<Figure size 1200x400 with 2 Axes>"
            ],
            "image/png": "[encoded data removed]"
          },
          "metadata": {}
        },
        {
          "output_type": "stream",
          "name": "stdout",
          "text": [
            "Mean loss=2.159\n"
          ]
        },
        {
          "output_type": "stream",
          "name": "stderr",
          "text": [
            " 71%|███████▏  | 10699/15000 [15:19<06:09, 11.64it/s]\n"
          ]
        }
      ],
      "source": [
        "for _ in trange(15000):\n",
        "    step = len(metrics['train_loss']) + 1\n",
        "    batch_ix = np.random.randint(len(train_inp), size=batch_size)\n",
        "    batch_inp = inp_voc.to_matrix(train_inp[batch_ix]).to(device)\n",
        "    batch_out = out_voc.to_matrix(train_out[batch_ix]).to(device)\n",
        "\n",
        "    opt.zero_grad()\n",
        "    loss_t = compute_loss(model, batch_inp, batch_out)\n",
        "    loss_t.backward()\n",
        "    torch.nn.utils.clip_grad_norm_(model.parameters(), max_norm=5.0)\n",
        "    opt.step()\n",
        "\n",
        "    metrics['train_loss'].append((step, loss_t.item()))\n",
        "\n",
        "    if step % 100 == 0:\n",
        "        dev_bleu = compute_bleu(model, dev_inp, dev_out)\n",
        "        metrics['dev_bleu'].append((step, dev_bleu))\n",
        "\n",
        "        # вводим early stopping\n",
        "        if dev_bleu > best_dev_bleu:\n",
        "            best_dev_bleu = dev_bleu\n",
        "            pat = 0\n",
        "        else:\n",
        "            pat += 100\n",
        "\n",
        "        if pat >= early_stop_pat:\n",
        "            break\n",
        "\n",
        "        scheduler.step(-dev_bleu)\n",
        "\n",
        "        clear_output(True)\n",
        "        plt.figure(figsize=(12,4))\n",
        "        for i, (name, history) in enumerate(sorted(metrics.items())):\n",
        "            plt.subplot(1, len(metrics), i + 1)\n",
        "            plt.title(name)\n",
        "            plt.plot(*zip(*history))\n",
        "            plt.grid()\n",
        "        plt.show()\n",
        "        print(\"Mean loss=%.3f\" % np.mean([v for _, v in metrics['train_loss'][-10:]]), flush=True)"
      ]
    },
    {
      "cell_type": "code",
      "execution_count": null,
      "metadata": {
        "id": "2ahuhKVhlrtP"
      },
      "outputs": [],
      "source": [
        "# assert np.mean(metrics['dev_bleu'][-10:], axis=0)[1] > 15, \"We kind of need a higher bleu BLEU from you. Kind of right now.\""
      ]
    },
    {
      "cell_type": "code",
      "execution_count": null,
      "metadata": {
        "id": "KyaHOpealrtS",
        "colab": {
          "base_uri": "https://localhost:8080/"
        },
        "outputId": "ef9ad718-54e6-4a09-c719-483dc9eb133b"
      },
      "outputs": [
        {
          "output_type": "stream",
          "name": "stdout",
          "text": [
            "к услугам гостей бесплатные принадлежности для барбекю в саду и бесплатный wi - fi .\n",
            "it offers a free wi - fi and free parking .\n",
            "\n",
            "также имеется полностью оборудованная кухня с посудомоечной машиной .\n",
            "there is also a full kitchen with a dishwasher and a microwave .\n",
            "\n",
            "ежедневно сервируется завтрак « шведский стол ».\n",
            "daily buffet breakfasts is served daily .\n",
            "\n",
            "в ресторане отеля k@@ lau@@ s@@ nerhof гостям предложат блюда австрийской и интернациональной кухни , а в баре , работающим днем , гости могут заказать закуски .\n",
            "the restaurant ’ s restaurant serves traditional polish and regional specialities in the lobby bar .\n",
            "\n",
            "летом гости могут бесплатно пользоваться принадлежностями для барбекю .\n",
            "free wifi is offered at the property , and a shared kitchen is available .\n",
            "\n",
            "к услугам гостей ресторан и бесплатная частная парковка на территории .\n",
            "guests of the hotel can enjoy free parking on site and a fully equipped kitchen .\n",
            "\n",
            "до торгового комплекса mu@@ ir station можно доехать за 5 минут .\n",
            "the train station and is a 10 - minute drive away .\n",
            "\n",
            "в апартаментах studio in paris grands boulevards к вашим услугам балкон и гостиная зона с телевизором с плоским экраном .\n",
            "apartments at the air - conditioned apartments have a seating area and a living room with a flat - screen tv .\n",
            "\n",
            "гости могут отдыхать в лобби - баре или на террасе на крыше отеля .\n",
            "guests can relax on the terrace or relax in the lobby bar or on the terrace .\n",
            "\n",
            "в комплексе можно взять напрокат велосипед . за дополнительную плату гости могут заказать массаж .\n",
            "bicycle rental are available on site at an extra cost .\n",
            "\n"
          ]
        }
      ],
      "source": [
        "for inp_line, trans_line in zip(dev_inp[::500], model.translate_lines(dev_inp[::500])[0]):\n",
        "    print(inp_line)\n",
        "    print(trans_line)\n",
        "    print()"
      ]
    },
    {
      "cell_type": "code",
      "source": [
        "compute_bleu(model, dev_inp, dev_out)"
      ],
      "metadata": {
        "colab": {
          "base_uri": "https://localhost:8080/"
        },
        "id": "E0THtN_TkcAC",
        "outputId": "64876e0a-3d3e-4a99-9262-1e9f81c73034"
      },
      "execution_count": null,
      "outputs": [
        {
          "output_type": "execute_result",
          "data": {
            "text/plain": [
              "12.031046872203822"
            ]
          },
          "metadata": {},
          "execution_count": 197
        }
      ]
    },
    {
      "cell_type": "markdown",
      "metadata": {
        "id": "Qz9aROAIlrtX"
      },
      "source": [
        "### Attention\n",
        "\n",
        "Attention-слой пока что оставим таким же"
      ]
    },
    {
      "cell_type": "code",
      "execution_count": null,
      "metadata": {
        "id": "s_hN8TsIJK33"
      },
      "outputs": [],
      "source": [
        "class AttentionLayer(nn.Module):\n",
        "    def __init__(self, enc_size, dec_size, hid_size):\n",
        "        \"\"\" A layer that computes additive attention response and weights \"\"\"\n",
        "        super().__init__()\n",
        "        self.enc_size = enc_size # num units in encoder state\n",
        "        self.dec_size = dec_size # num units in decoder state\n",
        "        self.hid_size = hid_size # attention layer hidden units\n",
        "\n",
        "        self.linear_enc = nn.Linear(enc_size, hid_size)\n",
        "        self.linear_dec = nn.Linear(dec_size, hid_size)\n",
        "        self.linear_out = nn.Linear(hid_size, 1)\n",
        "        self.softmax = nn.Softmax(dim=-1)\n",
        "\n",
        "    def forward(self, enc, dec, inp_mask):\n",
        "        \"\"\"\n",
        "        Computes attention response and weights\n",
        "        :param enc: encoder activation sequence, float32[batch_size, ninp, enc_size]\n",
        "        :param dec: single decoder state used as \"query\", float32[batch_size, dec_size]\n",
        "        :param inp_mask: mask on enc activatons (0 after first eos), float32 [batch_size, ninp]\n",
        "        :returns: attn[batch_size, enc_size], probs[batch_size, ninp]\n",
        "            - attn - attention response vector (weighted sum of enc)\n",
        "            - probs - attention weights after softmax\n",
        "        \"\"\"\n",
        "        batch_size, ninp, enc_size = enc.shape\n",
        "\n",
        "        # Compute logits\n",
        "        x = self.linear_dec(dec).reshape(-1, 1, self.hid_size)\n",
        "        x = torch.tanh(self.linear_enc(enc) + x)\n",
        "        x = self.linear_out(x)\n",
        "\n",
        "        # Apply mask - if mask is 0, logits should be -inf or -1e9\n",
        "        # You may need torch.where\n",
        "        x[torch.where(inp_mask == False)] = -1e9\n",
        "\n",
        "        # Compute attention probabilities (softmax)\n",
        "        probs = self.softmax(x.reshape(batch_size, ninp))\n",
        "\n",
        "        # Compute attention response using enc and probs\n",
        "        attn = (probs.reshape(batch_size, ninp, 1) * enc).sum(1)\n",
        "\n",
        "        return attn, probs"
      ]
    },
    {
      "cell_type": "markdown",
      "metadata": {
        "id": "IalfpdAelrtb"
      },
      "source": [
        "### Seq2seq model + attention\n"
      ]
    },
    {
      "cell_type": "code",
      "execution_count": null,
      "metadata": {
        "id": "NCKPB5JmcE6j"
      },
      "outputs": [],
      "source": [
        "class AttentiveModel(BasicModel):\n",
        "    def __init__(self, inp_voc, out_voc, emb_size=64, hid_size=128, attn_size=128):\n",
        "        \"\"\" Translation model that uses attention. See instructions above. \"\"\"\n",
        "        super().__init__(inp_voc, out_voc, emb_size, hid_size)\n",
        "        self.inp_voc, self.out_voc = inp_voc, out_voc\n",
        "        self.hid_size = hid_size\n",
        "\n",
        "        self.enc0 = nn.LSTM(emb_size, hid_size, num_layers=2, batch_first=True)\n",
        "        self.dec_start = nn.Linear(hid_size, hid_size)\n",
        "\n",
        "        self.dec0 = nn.GRUCell(emb_size + hid_size, hid_size)\n",
        "        self.attention = AttentionLayer(hid_size, hid_size, attn_size)\n",
        "\n",
        "\n",
        "    def encode(self, inp, **flags):\n",
        "        \"\"\"\n",
        "        Takes input sequences, computes initial state\n",
        "        :param inp: matrix of input tokens [batch, time]\n",
        "        :return: a list of initial decoder state tensors\n",
        "        \"\"\"\n",
        "        # encode input sequence, create initial decoder states\n",
        "        inp_emb = self.emb_inp(inp)\n",
        "        enc_seq, last_state_but_not_really = self.enc0(inp_emb)\n",
        "        #[dec_start] = super().encode(inp, **flags)\n",
        "\n",
        "        lengths = (inp != self.inp_voc.eos_ix).to(torch.int64).sum(dim=1).clamp_max(inp.shape[1] - 1)\n",
        "        last_state = enc_seq[torch.arange(len(enc_seq)), lengths]\n",
        "        # ^-- shape: [batch_size, hid_size]\n",
        "        dec_start = self.dec_start(last_state)\n",
        "\n",
        "        # apply attention layer from initial decoder hidden state\n",
        "        inp_mask = self.out_voc.compute_mask(inp)\n",
        "        first_attn_probas = self.attention(enc_seq, dec_start, inp_mask)\n",
        "\n",
        "        # Build first state: include\n",
        "        # * initial states for decoder recurrent layers\n",
        "        # * encoder sequence and encoder attn mask (for attention)\n",
        "        # * make sure that last state item is attention probabilities tensor\n",
        "\n",
        "        first_state = [dec_start, enc_seq, inp_mask, first_attn_probas]\n",
        "        return first_state\n",
        "\n",
        "    def decode_step(self, prev_state, prev_tokens, **flags):\n",
        "        \"\"\"\n",
        "        Takes previous decoder state and tokens, returns new state and logits for next tokens\n",
        "        :param prev_state: a list of previous decoder state tensors\n",
        "        :param prev_tokens: previous output tokens, an int vector of [batch_size]\n",
        "        :return: a list of next decoder state tensors, a tensor of logits [batch, n_tokens]\n",
        "        \"\"\"\n",
        "\n",
        "        prev_gru0_state, enc_seq, enc_mask, _ = prev_state\n",
        "        attn, attn_probs = self.attention(enc_seq, prev_gru0_state, enc_mask)\n",
        "\n",
        "        x = self.emb_out(prev_tokens)\n",
        "        x = torch.cat([attn, x], dim=-1)\n",
        "        x = self.dec0(x, prev_gru0_state)\n",
        "\n",
        "        new_dec_state = [x, enc_seq, enc_mask, attn_probs]\n",
        "        output_logits = self.logits(x)\n",
        "        return [new_dec_state, output_logits]\n"
      ]
    },
    {
      "cell_type": "markdown",
      "metadata": {
        "id": "ryZCOTEslrtf"
      },
      "source": [
        "### Training loop - модель с Attention\n"
      ]
    },
    {
      "cell_type": "code",
      "execution_count": null,
      "metadata": {
        "id": "-YMHPgZxcFaQ"
      },
      "outputs": [],
      "source": [
        "metrics = {'train_loss': [], 'dev_bleu': [] }\n",
        "\n",
        "model = AttentiveModel(inp_voc, out_voc).to(device)\n",
        "opt = torch.optim.AdamW(model.parameters(), lr=1e-3, weight_decay=1e-5)\n",
        "scheduler = torch.optim.lr_scheduler.ReduceLROnPlateau(opt, mode='min', factor=0.5, patience=300, verbose=True)\n",
        "batch_size = 32\n",
        "\n",
        "best_dev_bleu = -float('inf')\n",
        "pat = 0\n",
        "early_stop_pat = 1500"
      ]
    },
    {
      "cell_type": "code",
      "source": [
        "model"
      ],
      "metadata": {
        "colab": {
          "base_uri": "https://localhost:8080/"
        },
        "id": "iXKUvrCiqwA4",
        "outputId": "d273c6f3-74ee-45df-e8ae-3bf523769c59"
      },
      "execution_count": null,
      "outputs": [
        {
          "output_type": "execute_result",
          "data": {
            "text/plain": [
              "AttentiveModel(\n",
              "  (emb_inp): Embedding(22892, 64)\n",
              "  (emb_out): Embedding(19380, 64)\n",
              "  (enc0): LSTM(64, 128, num_layers=2, batch_first=True)\n",
              "  (dec_start): Linear(in_features=128, out_features=128, bias=True)\n",
              "  (dec0): GRUCell(192, 128)\n",
              "  (logits): Linear(in_features=128, out_features=19380, bias=True)\n",
              "  (attention): AttentionLayer(\n",
              "    (linear_enc): Linear(in_features=128, out_features=128, bias=True)\n",
              "    (linear_dec): Linear(in_features=128, out_features=128, bias=True)\n",
              "    (linear_out): Linear(in_features=128, out_features=1, bias=True)\n",
              "    (softmax): Softmax(dim=-1)\n",
              "  )\n",
              ")"
            ]
          },
          "metadata": {},
          "execution_count": 201
        }
      ]
    },
    {
      "cell_type": "code",
      "source": [
        "compute_bleu(model, dev_inp, dev_out)"
      ],
      "metadata": {
        "colab": {
          "base_uri": "https://localhost:8080/"
        },
        "id": "CD9SF8-vlFI1",
        "outputId": "4e0530fd-c443-4939-91a2-f958816bd721"
      },
      "execution_count": null,
      "outputs": [
        {
          "output_type": "execute_result",
          "data": {
            "text/plain": [
              "0.0012157082672438304"
            ]
          },
          "metadata": {},
          "execution_count": 202
        }
      ]
    },
    {
      "cell_type": "code",
      "execution_count": null,
      "metadata": {
        "id": "2nRy2nuRJK34",
        "colab": {
          "base_uri": "https://localhost:8080/",
          "height": 303
        },
        "outputId": "1c89a2a4-eea0-4d26-feae-675ce5cda2d2"
      },
      "outputs": [
        {
          "output_type": "display_data",
          "data": {
            "text/plain": [
              "<Figure size 1200x400 with 2 Axes>"
            ],
            "image/png": "[encoded data removed]"
          },
          "metadata": {}
        },
        {
          "output_type": "stream",
          "name": "stdout",
          "text": [
            "Mean loss=1.617\n"
          ]
        },
        {
          "output_type": "stream",
          "name": "stderr",
          "text": [
            " 93%|█████████▎| 13999/15000 [38:17<02:44,  6.09it/s]\n"
          ]
        }
      ],
      "source": [
        "for _ in trange(15000):\n",
        "    step = len(metrics['train_loss']) + 1\n",
        "    batch_ix = np.random.randint(len(train_inp), size=batch_size)\n",
        "    batch_inp = inp_voc.to_matrix(train_inp[batch_ix]).to(device)\n",
        "    batch_out = out_voc.to_matrix(train_out[batch_ix]).to(device)\n",
        "\n",
        "    opt.zero_grad()\n",
        "    loss_t = compute_loss(model, batch_inp, batch_out)\n",
        "    loss_t.backward()\n",
        "    opt.step()\n",
        "\n",
        "    metrics['train_loss'].append((step, loss_t.item()))\n",
        "\n",
        "    if step % 100 == 0:\n",
        "        dev_bleu = compute_bleu(model, dev_inp, dev_out)\n",
        "        metrics['dev_bleu'].append((step, dev_bleu))\n",
        "\n",
        "        # вводим early stopping\n",
        "        if dev_bleu > best_dev_bleu:\n",
        "            best_dev_bleu = dev_bleu\n",
        "            pat = 0\n",
        "        else:\n",
        "            pat += 100\n",
        "\n",
        "        if pat >= early_stop_pat:\n",
        "            break\n",
        "\n",
        "        scheduler.step(-dev_bleu)\n",
        "\n",
        "        clear_output(True)\n",
        "        plt.figure(figsize=(12,4))\n",
        "        for i, (name, history) in enumerate(sorted(metrics.items())):\n",
        "            plt.subplot(1, len(metrics), i + 1)\n",
        "            plt.title(name)\n",
        "            plt.plot(*zip(*history))\n",
        "            plt.grid()\n",
        "        plt.show()\n",
        "        print(\"Mean loss=%.3f\" % np.mean(metrics['train_loss'][-10:], axis=0)[1], flush=True)\n"
      ]
    },
    {
      "cell_type": "code",
      "source": [
        "compute_bleu(model, dev_inp, dev_out)"
      ],
      "metadata": {
        "colab": {
          "base_uri": "https://localhost:8080/"
        },
        "id": "V-e7__vjkmqX",
        "outputId": "dbb45570-8d6b-4add-b7e1-c0cfef6342e8"
      },
      "execution_count": null,
      "outputs": [
        {
          "output_type": "execute_result",
          "data": {
            "text/plain": [
              "17.268546811782347"
            ]
          },
          "metadata": {},
          "execution_count": 204
        }
      ]
    },
    {
      "cell_type": "code",
      "execution_count": null,
      "metadata": {
        "id": "RoRTDpgWJK34",
        "colab": {
          "base_uri": "https://localhost:8080/"
        },
        "outputId": "5a15ab73-19bf-4285-949c-38bbcfa973a3"
      },
      "outputs": [
        {
          "output_type": "stream",
          "name": "stdout",
          "text": [
            "к услугам гостей бесплатные принадлежности для барбекю в саду и бесплатный wi - fi .\n",
            "free wifi is available in public areas .\n",
            "\n",
            "также имеется полностью оборудованная кухня с посудомоечной машиной .\n",
            "there is a full kitchen with a dishwasher .\n",
            "\n",
            "ежедневно сервируется завтрак « шведский стол ».\n",
            "a daily buffet breakfast is served .\n",
            "\n",
            "в ресторане отеля k@@ lau@@ s@@ nerhof гостям предложат блюда австрийской и интернациональной кухни , а в баре , работающим днем , гости могут заказать закуски .\n",
            "the on - site restaurant serves international cuisine and international dishes , while the hotel has a wide range of refreshing drinks and drinks and snacks .\n",
            "\n",
            "летом гости могут бесплатно пользоваться принадлежностями для барбекю .\n",
            "bbq facilities are available in public areas of the property .\n",
            "\n",
            "к услугам гостей ресторан и бесплатная частная парковка на территории .\n",
            "it offers a restaurant and free on - site parking .\n",
            "\n",
            "до торгового комплекса mu@@ ir station можно доехать за 5 минут .\n",
            "the kamala city of sanxenxo is 5 minutes ’ drive away .\n",
            "\n",
            "в апартаментах studio in paris grands boulevards к вашим услугам балкон и гостиная зона с телевизором с плоским экраном .\n",
            "apartments are equipped with a balcony . there is a living room with a flat - screen tv and a seating area .\n",
            "\n",
            "гости могут отдыхать в лобби - баре или на террасе на крыше отеля .\n",
            "guests can enjoy a relaxing in the bar or on the terrace .\n",
            "\n",
            "в комплексе можно взять напрокат велосипед . за дополнительную плату гости могут заказать массаж .\n",
            "the property offers car hire , a shuttle service for a fee .\n",
            "\n"
          ]
        }
      ],
      "source": [
        "for inp_line, trans_line in zip(dev_inp[::500], model.translate_lines(dev_inp[::500])[0]):\n",
        "    print(inp_line)\n",
        "    print(trans_line)\n",
        "    print()"
      ]
    },
    {
      "cell_type": "markdown",
      "source": [
        "## Выводы:\n",
        "\n",
        "Метрики при изначальных параметрах обработки данных и построения модели:\n",
        "\n",
        "    BLEU no attention: 18.5\n",
        "    Loss no attention: 1.7\n",
        "\n",
        "\n",
        "    BLEU with attention: 22.9\n",
        "    Loss with attention: 1.6\n",
        "\n",
        "\n",
        "Метрики после\n",
        "- увеличения размера словаря до 25 тыс. токенов\n",
        "- изменения однослойной gru архитектуры на двухслойную lstm\n",
        "- улучения training-процесса: lr sheduling, early stopping и т.п.\n",
        "- замены жадного семплирования на топ-к\n",
        "\n",
        "\n",
        "    BLEU no attention: 12.03\n",
        "    Loss no attention: 2.16\n",
        "\n",
        "    BLEU with attention: 17.2\n",
        "    Loss with attention: 1.6\n",
        "\n",
        "\n",
        "Из улучшений самого метода исследования можно добавить исполнение кода после каждого изменения архитектуры, что в этот раз не было сделано. Модель дает результаты хуже после подбора параметров и комбинирования различных иструментов, что, естественно, плохо и нужно донастраивать весь пайплайн с фиксацией изменений метрик после различных изменений параметров. И насколько я понимаю тот же loss при более низком bleu говорит о переобучении, буду очень рада подсказкам что можно поменять в текущем решении чтобы повысить метрики/что из подобранных параметров могло повлиять негативно на результат."
      ],
      "metadata": {
        "id": "19tgSBuIFbjW"
      }
    }
  ],
  "metadata": {
    "accelerator": "GPU",
    "colab": {
      "provenance": [],
      "gpuType": "T4"
    },
    "kernelspec": {
      "display_name": "Python 3",
      "name": "python3"
    },
    "language_info": {
      "codemirror_mode": {
        "name": "ipython",
        "version": 3
      },
      "file_extension": ".py",
      "mimetype": "text/x-python",
      "name": "python",
      "nbconvert_exporter": "python",
      "pygments_lexer": "ipython3",
      "version": "3.8.3"
    }
  },
  "nbformat": 4,
  "nbformat_minor": 0
}